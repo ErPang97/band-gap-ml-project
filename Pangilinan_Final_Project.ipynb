{
 "cells": [
  {
   "cell_type": "code",
   "execution_count": 1,
   "metadata": {},
   "outputs": [],
   "source": [
    "import pymatgen as pym\n",
    "from pymatgen import MPRester\n",
    "\n",
    "\"\"\"The above will not be used in this particular notebook per se, but it was included as it was used to \n",
    "generate band gap data from the Materials API, and was also used to calculate the features.\n",
    "\"\"\"\n",
    "\n",
    "import numpy as np\n",
    "import pandas as pd\n",
    "\n"
   ]
  },
  {
   "cell_type": "code",
   "execution_count": 2,
   "metadata": {},
   "outputs": [],
   "source": [
    "#Classic importing section\n",
    "\n",
    "import numpy as np\n",
    "import matplotlib\n",
    "import matplotlib.pyplot as plt\n",
    "from sklearn import metrics\n",
    "\n",
    "from sklearn import linear_model"
   ]
  },
  {
   "cell_type": "code",
   "execution_count": 3,
   "metadata": {},
   "outputs": [],
   "source": [
    "from sklearn.model_selection import train_test_split, cross_validate, cross_val_predict\n",
    "from sklearn.model_selection import KFold"
   ]
  },
  {
   "cell_type": "code",
   "execution_count": 4,
   "metadata": {},
   "outputs": [],
   "source": [
    "\n",
    "from sklearn.model_selection import train_test_split, cross_validate, cross_val_predict\n",
    "from sklearn.model_selection import KFold\n",
    "from sklearn.linear_model import Ridge, RidgeCV\n",
    "\n",
    "from sklearn import metrics\n",
    "from sklearn.model_selection import KFold, GridSearchCV\n",
    "from sklearn.tree import DecisionTreeRegressor\n",
    "from sklearn.ensemble import RandomForestRegressor, ExtraTreesRegressor\n",
    "\n",
    "from sklearn "
   ]
  },
  {
   "cell_type": "code",
   "execution_count": 5,
   "metadata": {},
   "outputs": [],
   "source": [
    "#Importing the data.\n",
    "\n",
    "\n",
    "data = pd.read_csv('binary_compounds.csv')"
   ]
  },
  {
   "cell_type": "code",
   "execution_count": 14,
   "metadata": {},
   "outputs": [
    {
     "data": {
      "text/html": [
       "<div>\n",
       "<style scoped>\n",
       "    .dataframe tbody tr th:only-of-type {\n",
       "        vertical-align: middle;\n",
       "    }\n",
       "\n",
       "    .dataframe tbody tr th {\n",
       "        vertical-align: top;\n",
       "    }\n",
       "\n",
       "    .dataframe thead th {\n",
       "        text-align: right;\n",
       "    }\n",
       "</style>\n",
       "<table border=\"1\" class=\"dataframe\">\n",
       "  <thead>\n",
       "    <tr style=\"text-align: right;\">\n",
       "      <th></th>\n",
       "      <th>Unnamed: 0</th>\n",
       "      <th>pretty_formula</th>\n",
       "      <th>band_gap</th>\n",
       "      <th>comp</th>\n",
       "      <th>eneg_diff</th>\n",
       "      <th>atom_frac</th>\n",
       "      <th>molec_weight</th>\n",
       "      <th>group_num</th>\n",
       "    </tr>\n",
       "  </thead>\n",
       "  <tbody>\n",
       "    <tr>\n",
       "      <th>0</th>\n",
       "      <td>0</td>\n",
       "      <td>BN</td>\n",
       "      <td>5.6697</td>\n",
       "      <td>B1 N1</td>\n",
       "      <td>1.00</td>\n",
       "      <td>0.50</td>\n",
       "      <td>24.817700</td>\n",
       "      <td>13</td>\n",
       "    </tr>\n",
       "    <tr>\n",
       "      <th>1</th>\n",
       "      <td>1</td>\n",
       "      <td>TlN</td>\n",
       "      <td>0.0000</td>\n",
       "      <td>Tl1 N1</td>\n",
       "      <td>1.42</td>\n",
       "      <td>0.50</td>\n",
       "      <td>218.390000</td>\n",
       "      <td>13</td>\n",
       "    </tr>\n",
       "    <tr>\n",
       "      <th>3</th>\n",
       "      <td>3</td>\n",
       "      <td>GaN</td>\n",
       "      <td>0.0000</td>\n",
       "      <td>Ga1 N1</td>\n",
       "      <td>1.23</td>\n",
       "      <td>0.50</td>\n",
       "      <td>83.729700</td>\n",
       "      <td>13</td>\n",
       "    </tr>\n",
       "    <tr>\n",
       "      <th>7</th>\n",
       "      <td>7</td>\n",
       "      <td>AlN</td>\n",
       "      <td>3.4683</td>\n",
       "      <td>Al1 N1</td>\n",
       "      <td>1.43</td>\n",
       "      <td>0.50</td>\n",
       "      <td>40.988239</td>\n",
       "      <td>13</td>\n",
       "    </tr>\n",
       "    <tr>\n",
       "      <th>18</th>\n",
       "      <td>18</td>\n",
       "      <td>InN</td>\n",
       "      <td>0.4777</td>\n",
       "      <td>In1 N1</td>\n",
       "      <td>1.26</td>\n",
       "      <td>0.50</td>\n",
       "      <td>128.824700</td>\n",
       "      <td>13</td>\n",
       "    </tr>\n",
       "    <tr>\n",
       "      <th>...</th>\n",
       "      <td>...</td>\n",
       "      <td>...</td>\n",
       "      <td>...</td>\n",
       "      <td>...</td>\n",
       "      <td>...</td>\n",
       "      <td>...</td>\n",
       "      <td>...</td>\n",
       "      <td>...</td>\n",
       "    </tr>\n",
       "    <tr>\n",
       "      <th>713</th>\n",
       "      <td>713</td>\n",
       "      <td>Sn3Te</td>\n",
       "      <td>0.0000</td>\n",
       "      <td>Sn3 Te1</td>\n",
       "      <td>3.78</td>\n",
       "      <td>0.75</td>\n",
       "      <td>483.730000</td>\n",
       "      <td>14</td>\n",
       "    </tr>\n",
       "    <tr>\n",
       "      <th>714</th>\n",
       "      <td>714</td>\n",
       "      <td>TePb3</td>\n",
       "      <td>0.0000</td>\n",
       "      <td>Te1 Pb3</td>\n",
       "      <td>4.89</td>\n",
       "      <td>0.25</td>\n",
       "      <td>749.200000</td>\n",
       "      <td>16</td>\n",
       "    </tr>\n",
       "    <tr>\n",
       "      <th>717</th>\n",
       "      <td>717</td>\n",
       "      <td>SnTe3</td>\n",
       "      <td>0.0000</td>\n",
       "      <td>Sn1 Te3</td>\n",
       "      <td>4.34</td>\n",
       "      <td>0.25</td>\n",
       "      <td>501.510000</td>\n",
       "      <td>14</td>\n",
       "    </tr>\n",
       "    <tr>\n",
       "      <th>719</th>\n",
       "      <td>719</td>\n",
       "      <td>SnTe</td>\n",
       "      <td>0.6624</td>\n",
       "      <td>Sn1 Te1</td>\n",
       "      <td>0.14</td>\n",
       "      <td>0.50</td>\n",
       "      <td>246.310000</td>\n",
       "      <td>14</td>\n",
       "    </tr>\n",
       "    <tr>\n",
       "      <th>720</th>\n",
       "      <td>720</td>\n",
       "      <td>Ge3Te</td>\n",
       "      <td>0.0000</td>\n",
       "      <td>Ge3 Te1</td>\n",
       "      <td>3.93</td>\n",
       "      <td>0.75</td>\n",
       "      <td>345.520000</td>\n",
       "      <td>14</td>\n",
       "    </tr>\n",
       "  </tbody>\n",
       "</table>\n",
       "<p>183 rows × 8 columns</p>\n",
       "</div>"
      ],
      "text/plain": [
       "     Unnamed: 0 pretty_formula  band_gap     comp  eneg_diff  atom_frac  \\\n",
       "0             0             BN    5.6697    B1 N1       1.00       0.50   \n",
       "1             1            TlN    0.0000   Tl1 N1       1.42       0.50   \n",
       "3             3            GaN    0.0000   Ga1 N1       1.23       0.50   \n",
       "7             7            AlN    3.4683   Al1 N1       1.43       0.50   \n",
       "18           18            InN    0.4777   In1 N1       1.26       0.50   \n",
       "..          ...            ...       ...      ...        ...        ...   \n",
       "713         713          Sn3Te    0.0000  Sn3 Te1       3.78       0.75   \n",
       "714         714          TePb3    0.0000  Te1 Pb3       4.89       0.25   \n",
       "717         717          SnTe3    0.0000  Sn1 Te3       4.34       0.25   \n",
       "719         719           SnTe    0.6624  Sn1 Te1       0.14       0.50   \n",
       "720         720          Ge3Te    0.0000  Ge3 Te1       3.93       0.75   \n",
       "\n",
       "     molec_weight  group_num  \n",
       "0       24.817700         13  \n",
       "1      218.390000         13  \n",
       "3       83.729700         13  \n",
       "7       40.988239         13  \n",
       "18     128.824700         13  \n",
       "..            ...        ...  \n",
       "713    483.730000         14  \n",
       "714    749.200000         16  \n",
       "717    501.510000         14  \n",
       "719    246.310000         14  \n",
       "720    345.520000         14  \n",
       "\n",
       "[183 rows x 8 columns]"
      ]
     },
     "execution_count": 14,
     "metadata": {},
     "output_type": "execute_result"
    }
   ],
   "source": [
    "#Some data processing:\n",
    "\n",
    "\n",
    "df_wcut = data[data['molec_weight']<1000]   #Removing any very heavy chemical compounds\n",
    "\n",
    "\n",
    "df_ecut = df_wcut[df_wcut['eneg_diff']<10]  \n",
    "\n",
    "#Considering only molecules with relatively small electronegativity differences\n",
    "\n",
    "\n",
    "df = df_ecut.drop_duplicates(subset=['pretty_formula'])  \n",
    "\n",
    "\"\"\"Removing any duplicate molecules. Originally tried, using all 700+, duplicates included... \n",
    "but that gave very low scores for both\n",
    "\"\"\"\n",
    "\n",
    "df"
   ]
  },
  {
   "cell_type": "code",
   "execution_count": 15,
   "metadata": {},
   "outputs": [
    {
     "data": {
      "text/html": [
       "<div>\n",
       "<style scoped>\n",
       "    .dataframe tbody tr th:only-of-type {\n",
       "        vertical-align: middle;\n",
       "    }\n",
       "\n",
       "    .dataframe tbody tr th {\n",
       "        vertical-align: top;\n",
       "    }\n",
       "\n",
       "    .dataframe thead th {\n",
       "        text-align: right;\n",
       "    }\n",
       "</style>\n",
       "<table border=\"1\" class=\"dataframe\">\n",
       "  <thead>\n",
       "    <tr style=\"text-align: right;\">\n",
       "      <th></th>\n",
       "      <th>eneg_diff</th>\n",
       "      <th>atom_frac</th>\n",
       "      <th>molec_weight</th>\n",
       "      <th>group_num</th>\n",
       "    </tr>\n",
       "  </thead>\n",
       "  <tbody>\n",
       "    <tr>\n",
       "      <th>0</th>\n",
       "      <td>1.00</td>\n",
       "      <td>0.50</td>\n",
       "      <td>24.817700</td>\n",
       "      <td>13</td>\n",
       "    </tr>\n",
       "    <tr>\n",
       "      <th>1</th>\n",
       "      <td>1.42</td>\n",
       "      <td>0.50</td>\n",
       "      <td>218.390000</td>\n",
       "      <td>13</td>\n",
       "    </tr>\n",
       "    <tr>\n",
       "      <th>3</th>\n",
       "      <td>1.23</td>\n",
       "      <td>0.50</td>\n",
       "      <td>83.729700</td>\n",
       "      <td>13</td>\n",
       "    </tr>\n",
       "    <tr>\n",
       "      <th>7</th>\n",
       "      <td>1.43</td>\n",
       "      <td>0.50</td>\n",
       "      <td>40.988239</td>\n",
       "      <td>13</td>\n",
       "    </tr>\n",
       "    <tr>\n",
       "      <th>18</th>\n",
       "      <td>1.26</td>\n",
       "      <td>0.50</td>\n",
       "      <td>128.824700</td>\n",
       "      <td>13</td>\n",
       "    </tr>\n",
       "    <tr>\n",
       "      <th>...</th>\n",
       "      <td>...</td>\n",
       "      <td>...</td>\n",
       "      <td>...</td>\n",
       "      <td>...</td>\n",
       "    </tr>\n",
       "    <tr>\n",
       "      <th>713</th>\n",
       "      <td>3.78</td>\n",
       "      <td>0.75</td>\n",
       "      <td>483.730000</td>\n",
       "      <td>14</td>\n",
       "    </tr>\n",
       "    <tr>\n",
       "      <th>714</th>\n",
       "      <td>4.89</td>\n",
       "      <td>0.25</td>\n",
       "      <td>749.200000</td>\n",
       "      <td>16</td>\n",
       "    </tr>\n",
       "    <tr>\n",
       "      <th>717</th>\n",
       "      <td>4.34</td>\n",
       "      <td>0.25</td>\n",
       "      <td>501.510000</td>\n",
       "      <td>14</td>\n",
       "    </tr>\n",
       "    <tr>\n",
       "      <th>719</th>\n",
       "      <td>0.14</td>\n",
       "      <td>0.50</td>\n",
       "      <td>246.310000</td>\n",
       "      <td>14</td>\n",
       "    </tr>\n",
       "    <tr>\n",
       "      <th>720</th>\n",
       "      <td>3.93</td>\n",
       "      <td>0.75</td>\n",
       "      <td>345.520000</td>\n",
       "      <td>14</td>\n",
       "    </tr>\n",
       "  </tbody>\n",
       "</table>\n",
       "<p>183 rows × 4 columns</p>\n",
       "</div>"
      ],
      "text/plain": [
       "     eneg_diff  atom_frac  molec_weight  group_num\n",
       "0         1.00       0.50     24.817700         13\n",
       "1         1.42       0.50    218.390000         13\n",
       "3         1.23       0.50     83.729700         13\n",
       "7         1.43       0.50     40.988239         13\n",
       "18        1.26       0.50    128.824700         13\n",
       "..         ...        ...           ...        ...\n",
       "713       3.78       0.75    483.730000         14\n",
       "714       4.89       0.25    749.200000         16\n",
       "717       4.34       0.25    501.510000         14\n",
       "719       0.14       0.50    246.310000         14\n",
       "720       3.93       0.75    345.520000         14\n",
       "\n",
       "[183 rows x 4 columns]"
      ]
     },
     "execution_count": 15,
     "metadata": {},
     "output_type": "execute_result"
    }
   ],
   "source": [
    "features = df[['eneg_diff','atom_frac','molec_weight','group_num']] #defining the features data frame\n",
    " \n",
    "features"
   ]
  },
  {
   "cell_type": "code",
   "execution_count": 16,
   "metadata": {},
   "outputs": [
    {
     "data": {
      "text/plain": [
       "0      5.6697\n",
       "1      0.0000\n",
       "3      0.0000\n",
       "7      3.4683\n",
       "18     0.4777\n",
       "        ...  \n",
       "713    0.0000\n",
       "714    0.0000\n",
       "717    0.0000\n",
       "719    0.6624\n",
       "720    0.0000\n",
       "Name: band_gap, Length: 183, dtype: float64"
      ]
     },
     "execution_count": 16,
     "metadata": {},
     "output_type": "execute_result"
    }
   ],
   "source": [
    "target = df['band_gap']  #defining the band gap data as the target\n",
    "\n",
    "target"
   ]
  },
  {
   "cell_type": "markdown",
   "metadata": {},
   "source": [
    "#### First, let's visualize the data.\n",
    "\n",
    "Here I make 3 graphs, to see if there is any noticeable trend when comparing band gaps to the Electronegativity Difference, the Molecular Weight, and the Atomic Fraction."
   ]
  },
  {
   "cell_type": "code",
   "execution_count": 17,
   "metadata": {},
   "outputs": [
    {
     "data": {
      "text/plain": [
       "0      5.6697\n",
       "1      0.0000\n",
       "3      0.0000\n",
       "7      3.4683\n",
       "18     0.4777\n",
       "        ...  \n",
       "713    0.0000\n",
       "714    0.0000\n",
       "717    0.0000\n",
       "719    0.6624\n",
       "720    0.0000\n",
       "Name: band_gap, Length: 183, dtype: float64"
      ]
     },
     "execution_count": 17,
     "metadata": {},
     "output_type": "execute_result"
    }
   ],
   "source": [
    "y = target\n",
    "\n",
    "y"
   ]
  },
  {
   "cell_type": "code",
   "execution_count": 18,
   "metadata": {},
   "outputs": [],
   "source": [
    "\n",
    "\n",
    "x1 = features['eneg_diff'].to_numpy()\n",
    "\n",
    "x2 = features['atom_frac'].to_numpy()\n",
    "\n",
    "x3 = features['molec_weight'].to_numpy()\n",
    "\n"
   ]
  },
  {
   "cell_type": "code",
   "execution_count": 19,
   "metadata": {},
   "outputs": [
    {
     "data": {
      "text/plain": [
       "Text(0, 0.5, 'Band Gap')"
      ]
     },
     "execution_count": 19,
     "metadata": {},
     "output_type": "execute_result"
    },
    {
     "data": {
      "image/png": "[encoded data removed]",
      "text/plain": [
       "<Figure size 432x288 with 1 Axes>"
      ]
     },
     "metadata": {
      "needs_background": "light"
     },
     "output_type": "display_data"
    }
   ],
   "source": [
    "#A graph examining the relationship between the electronegativty difference and the band gap\n",
    "\n",
    "\n",
    "figure_one = plt.scatter(x1, y) \n",
    "plt.xlabel('Electronegativity Difference')\n",
    "plt.ylabel('Band Gap') \n"
   ]
  },
  {
   "cell_type": "code",
   "execution_count": 20,
   "metadata": {},
   "outputs": [
    {
     "data": {
      "text/plain": [
       "Text(0, 0.5, 'Band Gap')"
      ]
     },
     "execution_count": 20,
     "metadata": {},
     "output_type": "execute_result"
    },
    {
     "data": {
      "image/png": "[encoded data removed]",
      "text/plain": [
       "<Figure size 432x288 with 1 Axes>"
      ]
     },
     "metadata": {
      "needs_background": "light"
     },
     "output_type": "display_data"
    }
   ],
   "source": [
    "#A graph examining the relationship between the atomic fraction of the cation and the band gap\n",
    "\n",
    "\n",
    "figure_two = plt.scatter(x2, y) \n",
    "plt.xlabel('Atomic Fraction')\n",
    "plt.ylabel('Band Gap') \n"
   ]
  },
  {
   "cell_type": "code",
   "execution_count": null,
   "metadata": {},
   "outputs": [],
   "source": [
    "#A graph examining the relationship between the molecular weight of the compound and the band gap\n",
    "\n",
    "\n",
    "figure_three = plt.scatter(x3, y) \n",
    "plt.xlabel('Molecular Weight')\n",
    "plt.ylabel('Band Gap')\n"
   ]
  },
  {
   "cell_type": "markdown",
   "metadata": {},
   "source": [
    "#### First, we will try to see how a RidgeRegression model performs\n",
    "\n",
    "While playing around, I also used the Linear Regression without Regularization, but it certainly didn't do too strongly."
   ]
  },
  {
   "cell_type": "code",
   "execution_count": 21,
   "metadata": {},
   "outputs": [],
   "source": [
    "model = RidgeCV()"
   ]
  },
  {
   "cell_type": "code",
   "execution_count": 22,
   "metadata": {},
   "outputs": [],
   "source": [
    "cv = KFold(n_splits=5, shuffle = True, random_state=10)"
   ]
  },
  {
   "cell_type": "code",
   "execution_count": 25,
   "metadata": {},
   "outputs": [
    {
     "data": {
      "text/plain": [
       "{'fit_time': array([0.00399041, 0.00498581, 0.00398993, 0.00395679, 0.00298619]),\n",
       " 'score_time': array([0.00199461, 0.00199413, 0.00099659, 0.00199556, 0.00099945]),\n",
       " 'test_score': array([0.36974692, 0.29593865, 0.53236762, 0.22267275, 0.34149903]),\n",
       " 'train_score': array([0.41692426, 0.41719967, 0.3791842 , 0.44244848, 0.40454511])}"
      ]
     },
     "execution_count": 25,
     "metadata": {},
     "output_type": "execute_result"
    }
   ],
   "source": [
    "scores = cross_validate(model, features, target, cv = cv, return_train_score = True)\n",
    "\n",
    "scores"
   ]
  },
  {
   "cell_type": "code",
   "execution_count": 26,
   "metadata": {},
   "outputs": [
    {
     "name": "stdout",
     "output_type": "stream",
     "text": [
      "0.352 0.103\n",
      "0.412 0.021\n"
     ]
    }
   ],
   "source": [
    "print('{:.3f}'.format(scores['test_score'].mean()), '{:.3f}'.format(scores['test_score'].std()))\n",
    "print('{:.3f}'.format(scores['train_score'].mean()), '{:.3f}'.format(scores['train_score'].std()))"
   ]
  },
  {
   "cell_type": "markdown",
   "metadata": {},
   "source": [
    "Clearly, a very high bias issue. To see whether or not adding more data would be beneficial, it is useful to plot a learning curve."
   ]
  },
  {
   "cell_type": "code",
   "execution_count": 31,
   "metadata": {},
   "outputs": [
    {
     "data": {
      "text/html": [
       "<div>\n",
       "<style scoped>\n",
       "    .dataframe tbody tr th:only-of-type {\n",
       "        vertical-align: middle;\n",
       "    }\n",
       "\n",
       "    .dataframe tbody tr th {\n",
       "        vertical-align: top;\n",
       "    }\n",
       "\n",
       "    .dataframe thead th {\n",
       "        text-align: right;\n",
       "    }\n",
       "</style>\n",
       "<table border=\"1\" class=\"dataframe\">\n",
       "  <thead>\n",
       "    <tr style=\"text-align: right;\">\n",
       "      <th></th>\n",
       "      <th>test_score</th>\n",
       "      <th>train_score</th>\n",
       "    </tr>\n",
       "  </thead>\n",
       "  <tbody>\n",
       "    <tr>\n",
       "      <th>0</th>\n",
       "      <td>-0.253761</td>\n",
       "      <td>0.178318</td>\n",
       "    </tr>\n",
       "    <tr>\n",
       "      <th>1</th>\n",
       "      <td>0.336597</td>\n",
       "      <td>0.368044</td>\n",
       "    </tr>\n",
       "    <tr>\n",
       "      <th>2</th>\n",
       "      <td>0.328913</td>\n",
       "      <td>0.351448</td>\n",
       "    </tr>\n",
       "    <tr>\n",
       "      <th>3</th>\n",
       "      <td>0.297636</td>\n",
       "      <td>0.389622</td>\n",
       "    </tr>\n",
       "    <tr>\n",
       "      <th>4</th>\n",
       "      <td>0.352445</td>\n",
       "      <td>0.412060</td>\n",
       "    </tr>\n",
       "  </tbody>\n",
       "</table>\n",
       "</div>"
      ],
      "text/plain": [
       "   test_score  train_score\n",
       "0   -0.253761     0.178318\n",
       "1    0.336597     0.368044\n",
       "2    0.328913     0.351448\n",
       "3    0.297636     0.389622\n",
       "4    0.352445     0.412060"
      ]
     },
     "execution_count": 31,
     "metadata": {},
     "output_type": "execute_result"
    }
   ],
   "source": [
    "'''Obtaining data, for the learning curve, by examining the model beginning with 1/5th of the data \n",
    "and increasing the size by another 1/5th.\n",
    "'''\n",
    "\n",
    "size = np.shape(features)\n",
    "\n",
    "test_data = pd.DataFrame(columns = ('test_score','train_score'))\n",
    "\n",
    "for i in range(1,6):\n",
    "    per_feat = round(i/5*size[0])\n",
    "\n",
    "    scores = cross_validate(model, features.iloc[:per_feat,:], target[:per_feat], cv = cv, return_train_score = True)\n",
    "    \n",
    "    df2 = pd.DataFrame([[scores['test_score'].mean(), scores['train_score'].mean()]],columns = ('test_score','train_score'))\n",
    "        \n",
    "    test_data = test_data.append(df2, ignore_index = True)\n",
    "    \n",
    "\n",
    "test_data"
   ]
  },
  {
   "cell_type": "code",
   "execution_count": 34,
   "metadata": {},
   "outputs": [
    {
     "data": {
      "text/plain": [
       "0   -0.253761\n",
       "1    0.336597\n",
       "2    0.328913\n",
       "3    0.297636\n",
       "4    0.352445\n",
       "Name: test_score, dtype: float64"
      ]
     },
     "execution_count": 34,
     "metadata": {},
     "output_type": "execute_result"
    }
   ],
   "source": [
    "test_scores = test_data['test_score']\n",
    "\n",
    "test_scores\n",
    "\n"
   ]
  },
  {
   "cell_type": "code",
   "execution_count": 33,
   "metadata": {},
   "outputs": [
    {
     "data": {
      "text/plain": [
       "0    0.178318\n",
       "1    0.368044\n",
       "2    0.351448\n",
       "3    0.389622\n",
       "4    0.412060\n",
       "Name: train_score, dtype: float64"
      ]
     },
     "execution_count": 33,
     "metadata": {},
     "output_type": "execute_result"
    }
   ],
   "source": [
    "train_scores = test_data['train_score']\n",
    "\n",
    "train_scores"
   ]
  },
  {
   "cell_type": "code",
   "execution_count": 43,
   "metadata": {},
   "outputs": [
    {
     "data": {
      "text/plain": [
       "Text(0.5, 1.0, 'Learning Curve')"
      ]
     },
     "execution_count": 43,
     "metadata": {},
     "output_type": "execute_result"
    },
    {
     "data": {
      "image/png": "[encoded data removed]",
      "text/plain": [
       "<Figure size 432x288 with 1 Axes>"
      ]
     },
     "metadata": {
      "needs_background": "light"
     },
     "output_type": "display_data"
    }
   ],
   "source": [
    "#Plotting the learning curve\n",
    "\n",
    "\n",
    "x = np.array([round(1/5*size[0]), round(2/5*size[0]), round(3/5*size[0]), round(4/5*size[0]), size[0]])\n",
    "\n",
    "y1 = test_scores\n",
    "y2 = train_scores\n",
    "\n",
    "plt.plot(x, y1, label = 'Test Scores')\n",
    "plt.plot(x, y2, label = 'Training Score')\n",
    "plt.xlabel('Training Size')\n",
    "plt.ylabel('Score')\n",
    "plt.title('Learning Curve')"
   ]
  },
  {
   "cell_type": "code",
   "execution_count": 36,
   "metadata": {},
   "outputs": [],
   "source": [
    "from sklearn.preprocessing import StandardScaler , RobustScaler"
   ]
  },
  {
   "cell_type": "markdown",
   "metadata": {},
   "source": [
    "As can see from the graph above, it doesn't appear that adding data may necessarily help. However, to match the paper, which used 4096 compounds, perhaps more would give a better picture.\n",
    "\n",
    "In spite of this, in the paper, they also happened to scale some of the features."
   ]
  },
  {
   "cell_type": "markdown",
   "metadata": {},
   "source": [
    "#### Now let's try a more powerful method, the Random Forest"
   ]
  },
  {
   "cell_type": "code",
   "execution_count": 53,
   "metadata": {},
   "outputs": [],
   "source": [
    "model = RandomForestRegressor()"
   ]
  },
  {
   "cell_type": "code",
   "execution_count": 54,
   "metadata": {},
   "outputs": [
    {
     "data": {
      "text/plain": [
       "{'fit_time': array([0.12144947, 0.10971832, 0.11264896, 0.10776067, 0.09773684]),\n",
       " 'score_time': array([0.00698113, 0.00598311, 0.00702429, 0.00597262, 0.00599241]),\n",
       " 'test_score': array([0.69552454, 0.58445841, 0.8874252 , 0.70898738, 0.72534871]),\n",
       " 'train_score': array([0.96463456, 0.95983126, 0.96236467, 0.96594984, 0.96056479])}"
      ]
     },
     "execution_count": 54,
     "metadata": {},
     "output_type": "execute_result"
    }
   ],
   "source": [
    "scores = cross_validate(model, features, target , cv = cv, return_train_score=True)\n",
    "\n",
    "scores"
   ]
  },
  {
   "cell_type": "code",
   "execution_count": 55,
   "metadata": {},
   "outputs": [
    {
     "data": {
      "text/plain": [
       "(0.720348846226546, 0.9626690218610457)"
      ]
     },
     "execution_count": 55,
     "metadata": {},
     "output_type": "execute_result"
    }
   ],
   "source": [
    "np.mean(scores['test_score']), np.mean(scores['train_score'])"
   ]
  },
  {
   "cell_type": "markdown",
   "metadata": {},
   "source": [
    "The model seems to perform much better as compared to the Linear Model. However, there is now a variance issue that must be taken care of. Like before, let's see how the learning curve looks."
   ]
  },
  {
   "cell_type": "code",
   "execution_count": 45,
   "metadata": {},
   "outputs": [
    {
     "data": {
      "text/html": [
       "<div>\n",
       "<style scoped>\n",
       "    .dataframe tbody tr th:only-of-type {\n",
       "        vertical-align: middle;\n",
       "    }\n",
       "\n",
       "    .dataframe tbody tr th {\n",
       "        vertical-align: top;\n",
       "    }\n",
       "\n",
       "    .dataframe thead th {\n",
       "        text-align: right;\n",
       "    }\n",
       "</style>\n",
       "<table border=\"1\" class=\"dataframe\">\n",
       "  <thead>\n",
       "    <tr style=\"text-align: right;\">\n",
       "      <th></th>\n",
       "      <th>test_score</th>\n",
       "      <th>train_score</th>\n",
       "    </tr>\n",
       "  </thead>\n",
       "  <tbody>\n",
       "    <tr>\n",
       "      <th>0</th>\n",
       "      <td>0.485289</td>\n",
       "      <td>0.905163</td>\n",
       "    </tr>\n",
       "    <tr>\n",
       "      <th>1</th>\n",
       "      <td>0.470413</td>\n",
       "      <td>0.940884</td>\n",
       "    </tr>\n",
       "    <tr>\n",
       "      <th>2</th>\n",
       "      <td>0.231276</td>\n",
       "      <td>0.935591</td>\n",
       "    </tr>\n",
       "    <tr>\n",
       "      <th>3</th>\n",
       "      <td>0.669536</td>\n",
       "      <td>0.958989</td>\n",
       "    </tr>\n",
       "    <tr>\n",
       "      <th>4</th>\n",
       "      <td>0.716763</td>\n",
       "      <td>0.962224</td>\n",
       "    </tr>\n",
       "  </tbody>\n",
       "</table>\n",
       "</div>"
      ],
      "text/plain": [
       "   test_score  train_score\n",
       "0    0.485289     0.905163\n",
       "1    0.470413     0.940884\n",
       "2    0.231276     0.935591\n",
       "3    0.669536     0.958989\n",
       "4    0.716763     0.962224"
      ]
     },
     "execution_count": 45,
     "metadata": {},
     "output_type": "execute_result"
    }
   ],
   "source": [
    "#same as prior\n",
    "\n",
    "test_data = pd.DataFrame(columns = ('test_score','train_score'))\n",
    "\n",
    "for i in range(1,6):\n",
    "    per_feat = round(i/5*size[0])\n",
    "\n",
    "    scores = cross_validate(model, features.iloc[:per_feat,:], target[:per_feat], cv = cv, return_train_score = True)\n",
    "    \n",
    "    df2 = pd.DataFrame([[scores['test_score'].mean(), scores['train_score'].mean()]],columns = ('test_score','train_score'))\n",
    "        \n",
    "    test_data = test_data.append(df2, ignore_index = True)\n",
    "    \n",
    "\n",
    "test_data"
   ]
  },
  {
   "cell_type": "code",
   "execution_count": 46,
   "metadata": {},
   "outputs": [],
   "source": [
    "test_scores = test_data['test_score']\n",
    "\n",
    "train_scores = test_data['train_score']\n"
   ]
  },
  {
   "cell_type": "code",
   "execution_count": 48,
   "metadata": {},
   "outputs": [
    {
     "data": {
      "text/plain": [
       "Text(0.5, 1.0, 'Learning Curve')"
      ]
     },
     "execution_count": 48,
     "metadata": {},
     "output_type": "execute_result"
    },
    {
     "data": {
      "image/png": "[encoded data removed]",
      "text/plain": [
       "<Figure size 432x288 with 1 Axes>"
      ]
     },
     "metadata": {
      "needs_background": "light"
     },
     "output_type": "display_data"
    }
   ],
   "source": [
    "#Plotting the learning curve\n",
    "\n",
    "\n",
    "x = np.array([round(1/5*size[0]), round(2/5*size[0]), round(3/5*size[0]), round(4/5*size[0]), size[0]])\n",
    "\n",
    "y1 = test_scores\n",
    "y2 = train_scores\n",
    "\n",
    "plt.plot(x, y1, label = 'Test Scores')\n",
    "plt.plot(x, y2, label = 'Training Score')\n",
    "plt.xlabel('Training Set Size')\n",
    "plt.ylabel('Score')\n",
    "plt.title('Learning Curve')"
   ]
  },
  {
   "cell_type": "markdown",
   "metadata": {},
   "source": [
    "There is a strange dip when the size of the training data is about 3/5th of the overall amount of samples. Despite this, there seems to be a general trend of the score improving as more data is added.\n",
    "\n",
    "Now let's examine the parameters themselves to see if that helps."
   ]
  },
  {
   "cell_type": "code",
   "execution_count": 64,
   "metadata": {},
   "outputs": [
    {
     "name": "stdout",
     "output_type": "stream",
     "text": [
      "Fitting 5 folds for each of 162 candidates, totalling 810 fits\n"
     ]
    },
    {
     "name": "stderr",
     "output_type": "stream",
     "text": [
      "[Parallel(n_jobs=4)]: Using backend LokyBackend with 4 concurrent workers.\n",
      "[Parallel(n_jobs=4)]: Done  58 tasks      | elapsed:    2.7s\n",
      "[Parallel(n_jobs=4)]: Done 300 tasks      | elapsed:   13.5s\n",
      "[Parallel(n_jobs=4)]: Done 706 tasks      | elapsed:   32.2s\n"
     ]
    },
    {
     "name": "stdout",
     "output_type": "stream",
     "text": [
      "Best params, best score: 0.7441 {'max_depth': None, 'max_features': 2, 'min_samples_leaf': 1, 'min_samples_split': 2, 'n_estimators': 100}\n"
     ]
    },
    {
     "name": "stderr",
     "output_type": "stream",
     "text": [
      "[Parallel(n_jobs=4)]: Done 810 out of 810 | elapsed:   37.1s finished\n"
     ]
    }
   ],
   "source": [
    "#Performing a Grid Search to see if we can obtain the best model. This takes a couple of minutes.\n",
    "\n",
    "\n",
    "\n",
    "parameters = {'max_depth':[3, 6, None], \\\n",
    "              'max_features':[None,2], 'n_estimators':[50, 100, 200], 'min_samples_leaf': [1,3,5],'min_samples_split': [2,4,6]}\n",
    "nmodels = np.product([len(el) for el in parameters.values()])\n",
    "model = GridSearchCV(RandomForestRegressor(random_state = 10), parameters, cv = cv, \\\n",
    "                     verbose = 2, n_jobs = 4, return_train_score=True)\n",
    "model.fit(features,target)\n",
    "\n",
    "print('Best params, best score:', \"{:.4f}\".format(model.best_score_), \\\n",
    "      model.best_params_)"
   ]
  },
  {
   "cell_type": "code",
   "execution_count": 66,
   "metadata": {},
   "outputs": [
    {
     "data": {
      "text/html": [
       "<div>\n",
       "<style scoped>\n",
       "    .dataframe tbody tr th:only-of-type {\n",
       "        vertical-align: middle;\n",
       "    }\n",
       "\n",
       "    .dataframe tbody tr th {\n",
       "        vertical-align: top;\n",
       "    }\n",
       "\n",
       "    .dataframe thead th {\n",
       "        text-align: right;\n",
       "    }\n",
       "</style>\n",
       "<table border=\"1\" class=\"dataframe\">\n",
       "  <thead>\n",
       "    <tr style=\"text-align: right;\">\n",
       "      <th></th>\n",
       "      <th>params</th>\n",
       "      <th>mean_test_score</th>\n",
       "      <th>std_test_score</th>\n",
       "      <th>mean_train_score</th>\n",
       "    </tr>\n",
       "  </thead>\n",
       "  <tbody>\n",
       "    <tr>\n",
       "      <th>136</th>\n",
       "      <td>{'max_depth': None, 'max_features': 2, 'min_sa...</td>\n",
       "      <td>0.744114</td>\n",
       "      <td>0.080753</td>\n",
       "      <td>0.966130</td>\n",
       "    </tr>\n",
       "    <tr>\n",
       "      <th>135</th>\n",
       "      <td>{'max_depth': None, 'max_features': 2, 'min_sa...</td>\n",
       "      <td>0.740855</td>\n",
       "      <td>0.079909</td>\n",
       "      <td>0.964897</td>\n",
       "    </tr>\n",
       "    <tr>\n",
       "      <th>138</th>\n",
       "      <td>{'max_depth': None, 'max_features': 2, 'min_sa...</td>\n",
       "      <td>0.736206</td>\n",
       "      <td>0.096220</td>\n",
       "      <td>0.942114</td>\n",
       "    </tr>\n",
       "    <tr>\n",
       "      <th>139</th>\n",
       "      <td>{'max_depth': None, 'max_features': 2, 'min_sa...</td>\n",
       "      <td>0.733731</td>\n",
       "      <td>0.091449</td>\n",
       "      <td>0.944712</td>\n",
       "    </tr>\n",
       "    <tr>\n",
       "      <th>82</th>\n",
       "      <td>{'max_depth': 6, 'max_features': 2, 'min_sampl...</td>\n",
       "      <td>0.731210</td>\n",
       "      <td>0.085323</td>\n",
       "      <td>0.929815</td>\n",
       "    </tr>\n",
       "    <tr>\n",
       "      <th>...</th>\n",
       "      <td>...</td>\n",
       "      <td>...</td>\n",
       "      <td>...</td>\n",
       "      <td>...</td>\n",
       "    </tr>\n",
       "    <tr>\n",
       "      <th>23</th>\n",
       "      <td>{'max_depth': 3, 'max_features': None, 'min_sa...</td>\n",
       "      <td>0.573607</td>\n",
       "      <td>0.144099</td>\n",
       "      <td>0.732311</td>\n",
       "    </tr>\n",
       "    <tr>\n",
       "      <th>26</th>\n",
       "      <td>{'max_depth': 3, 'max_features': None, 'min_sa...</td>\n",
       "      <td>0.573607</td>\n",
       "      <td>0.144099</td>\n",
       "      <td>0.732311</td>\n",
       "    </tr>\n",
       "    <tr>\n",
       "      <th>18</th>\n",
       "      <td>{'max_depth': 3, 'max_features': None, 'min_sa...</td>\n",
       "      <td>0.570051</td>\n",
       "      <td>0.139797</td>\n",
       "      <td>0.729352</td>\n",
       "    </tr>\n",
       "    <tr>\n",
       "      <th>21</th>\n",
       "      <td>{'max_depth': 3, 'max_features': None, 'min_sa...</td>\n",
       "      <td>0.570051</td>\n",
       "      <td>0.139797</td>\n",
       "      <td>0.729352</td>\n",
       "    </tr>\n",
       "    <tr>\n",
       "      <th>24</th>\n",
       "      <td>{'max_depth': 3, 'max_features': None, 'min_sa...</td>\n",
       "      <td>0.570051</td>\n",
       "      <td>0.139797</td>\n",
       "      <td>0.729352</td>\n",
       "    </tr>\n",
       "  </tbody>\n",
       "</table>\n",
       "<p>162 rows × 4 columns</p>\n",
       "</div>"
      ],
      "text/plain": [
       "                                                params  mean_test_score  \\\n",
       "136  {'max_depth': None, 'max_features': 2, 'min_sa...         0.744114   \n",
       "135  {'max_depth': None, 'max_features': 2, 'min_sa...         0.740855   \n",
       "138  {'max_depth': None, 'max_features': 2, 'min_sa...         0.736206   \n",
       "139  {'max_depth': None, 'max_features': 2, 'min_sa...         0.733731   \n",
       "82   {'max_depth': 6, 'max_features': 2, 'min_sampl...         0.731210   \n",
       "..                                                 ...              ...   \n",
       "23   {'max_depth': 3, 'max_features': None, 'min_sa...         0.573607   \n",
       "26   {'max_depth': 3, 'max_features': None, 'min_sa...         0.573607   \n",
       "18   {'max_depth': 3, 'max_features': None, 'min_sa...         0.570051   \n",
       "21   {'max_depth': 3, 'max_features': None, 'min_sa...         0.570051   \n",
       "24   {'max_depth': 3, 'max_features': None, 'min_sa...         0.570051   \n",
       "\n",
       "     std_test_score  mean_train_score  \n",
       "136        0.080753          0.966130  \n",
       "135        0.079909          0.964897  \n",
       "138        0.096220          0.942114  \n",
       "139        0.091449          0.944712  \n",
       "82         0.085323          0.929815  \n",
       "..              ...               ...  \n",
       "23         0.144099          0.732311  \n",
       "26         0.144099          0.732311  \n",
       "18         0.139797          0.729352  \n",
       "21         0.139797          0.729352  \n",
       "24         0.139797          0.729352  \n",
       "\n",
       "[162 rows x 4 columns]"
      ]
     },
     "execution_count": 66,
     "metadata": {},
     "output_type": "execute_result"
    }
   ],
   "source": [
    "#Checking which set of parameters gave the best model\n",
    "\n",
    "scores = pd.DataFrame(model.cv_results_)\n",
    "scoresCV = scores[['params','mean_test_score','std_test_score','mean_train_score']].sort_values(by = 'mean_test_score', \\\n",
    "                                                    ascending = False)\n",
    "\n",
    "scoresCV"
   ]
  },
  {
   "cell_type": "code",
   "execution_count": 70,
   "metadata": {},
   "outputs": [],
   "source": [
    "#Taking the best model from the grid search done above.\n",
    "\n",
    "bm = model.best_estimator_"
   ]
  },
  {
   "cell_type": "code",
   "execution_count": 71,
   "metadata": {},
   "outputs": [
    {
     "data": {
      "text/plain": [
       "{'fit_time': array([0.11758876, 0.09473562, 0.09375048, 0.09574437, 0.09375   ]),\n",
       " 'score_time': array([0.00598025, 0.00598407, 0.00598288, 0.00598454, 0.00694084]),\n",
       " 'test_score': array([0.66874202, 0.66281451, 0.88605936, 0.75683468, 0.74611814]),\n",
       " 'train_score': array([0.96882373, 0.96836708, 0.96535962, 0.96466457, 0.96343454])}"
      ]
     },
     "execution_count": 71,
     "metadata": {},
     "output_type": "execute_result"
    }
   ],
   "source": [
    "scores = cross_validate(bm, features, target , cv = cv, return_train_score=True)\n",
    "\n",
    "scores"
   ]
  },
  {
   "cell_type": "code",
   "execution_count": 72,
   "metadata": {},
   "outputs": [
    {
     "data": {
      "text/plain": [
       "(0.7441137422147153, 0.9661299078181175)"
      ]
     },
     "execution_count": 72,
     "metadata": {},
     "output_type": "execute_result"
    }
   ],
   "source": [
    "np.mean(scores['test_score']), np.mean(scores['train_score'])"
   ]
  },
  {
   "cell_type": "markdown",
   "metadata": {},
   "source": [
    "Ultimately, there doesn't appear to be too much improvement if any, at least based off of the parameters used."
   ]
  },
  {
   "cell_type": "code",
   "execution_count": 74,
   "metadata": {},
   "outputs": [
    {
     "data": {
      "text/html": [
       "<div>\n",
       "<style scoped>\n",
       "    .dataframe tbody tr th:only-of-type {\n",
       "        vertical-align: middle;\n",
       "    }\n",
       "\n",
       "    .dataframe tbody tr th {\n",
       "        vertical-align: top;\n",
       "    }\n",
       "\n",
       "    .dataframe thead th {\n",
       "        text-align: right;\n",
       "    }\n",
       "</style>\n",
       "<table border=\"1\" class=\"dataframe\">\n",
       "  <thead>\n",
       "    <tr style=\"text-align: right;\">\n",
       "      <th></th>\n",
       "      <th>test_score</th>\n",
       "      <th>train_score</th>\n",
       "    </tr>\n",
       "  </thead>\n",
       "  <tbody>\n",
       "    <tr>\n",
       "      <th>0</th>\n",
       "      <td>0.428967</td>\n",
       "      <td>0.923015</td>\n",
       "    </tr>\n",
       "    <tr>\n",
       "      <th>1</th>\n",
       "      <td>0.569455</td>\n",
       "      <td>0.946734</td>\n",
       "    </tr>\n",
       "    <tr>\n",
       "      <th>2</th>\n",
       "      <td>0.322057</td>\n",
       "      <td>0.940518</td>\n",
       "    </tr>\n",
       "    <tr>\n",
       "      <th>3</th>\n",
       "      <td>0.676266</td>\n",
       "      <td>0.963045</td>\n",
       "    </tr>\n",
       "    <tr>\n",
       "      <th>4</th>\n",
       "      <td>0.744114</td>\n",
       "      <td>0.966130</td>\n",
       "    </tr>\n",
       "  </tbody>\n",
       "</table>\n",
       "</div>"
      ],
      "text/plain": [
       "   test_score  train_score\n",
       "0    0.428967     0.923015\n",
       "1    0.569455     0.946734\n",
       "2    0.322057     0.940518\n",
       "3    0.676266     0.963045\n",
       "4    0.744114     0.966130"
      ]
     },
     "execution_count": 74,
     "metadata": {},
     "output_type": "execute_result"
    }
   ],
   "source": [
    "#same as prior\n",
    "\n",
    "test_data = pd.DataFrame(columns = ('test_score','train_score'))\n",
    "\n",
    "for i in range(1,6):\n",
    "    per_feat = round(i/5*size[0])\n",
    "\n",
    "    scores = cross_validate(bm, features.iloc[:per_feat,:], target[:per_feat], cv = cv, return_train_score = True)\n",
    "    \n",
    "    df2 = pd.DataFrame([[scores['test_score'].mean(), scores['train_score'].mean()]],columns = ('test_score','train_score'))\n",
    "        \n",
    "    test_data = test_data.append(df2, ignore_index = True)\n",
    "    \n",
    "\n",
    "test_data"
   ]
  },
  {
   "cell_type": "code",
   "execution_count": 75,
   "metadata": {},
   "outputs": [],
   "source": [
    "test_scores = test_data['test_score']\n",
    "\n",
    "train_scores = test_data['train_score']\n"
   ]
  },
  {
   "cell_type": "markdown",
   "metadata": {},
   "source": [
    "#### References:"
   ]
  },
  {
   "cell_type": "markdown",
   "metadata": {},
   "source": [
    "1. Natarajan, AS, Varadhan R, Ezhilvel ME. 2016. Band Gap Estimation Using Machine Learning Techniques. Vixra.org\n",
    "\n",
    "2. J.M.K.C. Donev et al. (2015). Energy Education - Band gap [Online]. Available: https://energyeducation.ca/encyclopedia/Band_gap. \n",
    "\n",
    "3. Zhang, Y., Ling C. 2018. A strategy to apply machine learning to small data sets in materials sciences. Nature\n",
    "\n",
    "4. Ong, S. P.; Cholia, S.; Jain, A.; Brafman, M.; Gunter, D.; Ceder, G.; Persson, K. a. The Materials Application Programming Interface (API): A simple, flexible and efficient API for materials data based on Representational State Transfer (REST) principles, Comput. Mater. Sci., 2015, 97, 209–215. doi:10.1016/j.commatsci.2014.10.037.\n",
    "\n",
    "5. Some Previous Notebooks"
   ]
  },
  {
   "cell_type": "code",
   "execution_count": null,
   "metadata": {},
   "outputs": [],
   "source": []
  }
 ],
 "metadata": {
  "kernelspec": {
   "display_name": "Python 3",
   "language": "python",
   "name": "python3"
  },
  "language_info": {
   "codemirror_mode": {
    "name": "ipython",
    "version": 3
   },
   "file_extension": ".py",
   "mimetype": "text/x-python",
   "name": "python",
   "nbconvert_exporter": "python",
   "pygments_lexer": "ipython3",
   "version": "3.8.8"
  }
 },
 "nbformat": 4,
 "nbformat_minor": 4
}
